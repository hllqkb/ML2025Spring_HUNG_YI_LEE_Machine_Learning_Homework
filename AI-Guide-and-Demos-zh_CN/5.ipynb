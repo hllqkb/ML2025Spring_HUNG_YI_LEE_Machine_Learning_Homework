{
 "cells": [
  {
   "cell_type": "markdown",
   "id": "eef80fb4",
   "metadata": {},
   "source": [
    "理解 Hugging Face 的 AutoModel 系列：不同任务的自动模型加载类"
   ]
  },
  {
   "cell_type": "code",
   "execution_count": null,
   "id": "9571bb12",
   "metadata": {},
   "outputs": [],
   "source": [
    "# 文本生成 (AutoModelForCausalLM)\n",
    "from transformers import AutoTokenizer, AutoModelForCausalLM\n",
    "model_name='gpt2'\n",
    "tokenizer = AutoTokenizer.from_pretrained(model_name)\n",
    "model = AutoModelForCausalLM.from_pretrained(model_name)\n",
    "\n",
    "prompt = \"The quick brown fox jumps over the lazy dog\"\n",
    "input_ids = tokenizer.encode(prompt, return_tensors='pt')\n",
    "\n",
    "generated_ids = model.generate(input_ids=input_ids, max_length=100, do_sample=True, top_p=0.95, top_k=60)\n",
    "generated_text = tokenizer.decode(generated_ids[0], skip_special_tokens=True)\n",
    "print(generated_text)"
   ]
  },
  {
   "cell_type": "code",
   "execution_count": null,
   "id": "449c25de",
   "metadata": {},
   "outputs": [],
   "source": []
  },
  {
   "cell_type": "code",
   "execution_count": null,
   "id": "60f319fd",
   "metadata": {},
   "outputs": [],
   "source": []
  },
  {
   "cell_type": "code",
   "execution_count": null,
   "id": "ab139ed4",
   "metadata": {},
   "outputs": [],
   "source": []
  },
  {
   "cell_type": "code",
   "execution_count": null,
   "id": "344b06c0",
   "metadata": {},
   "outputs": [],
   "source": []
  },
  {
   "cell_type": "code",
   "execution_count": null,
   "id": "7be06293",
   "metadata": {},
   "outputs": [],
   "source": []
  }
 ],
 "metadata": {
  "kernelspec": {
   "display_name": "deeplearn",
   "language": "python",
   "name": "python3"
  },
  "language_info": {
   "codemirror_mode": {
    "name": "ipython",
    "version": 3
   },
   "file_extension": ".py",
   "mimetype": "text/x-python",
   "name": "python",
   "nbconvert_exporter": "python",
   "pygments_lexer": "ipython3",
   "version": "3.10.18"
  }
 },
 "nbformat": 4,
 "nbformat_minor": 5
}
