{
 "cells": [
  {
   "cell_type": "code",
   "execution_count": null,
   "id": "5983577e",
   "metadata": {},
   "outputs": [
    {
     "name": "stdout",
     "output_type": "stream",
     "text": [
      "Parameter containing:\n",
      "tensor([[-0.5662, -1.1599, -1.8724],\n",
      "        [ 0.4840, -0.0404, -0.4211],\n",
      "        [-1.3851,  0.6158,  0.1989],\n",
      "        [ 0.0069, -0.3707, -2.1425],\n",
      "        [-0.2118,  2.1094, -1.8554]], requires_grad=True)\n",
      "tensor([[-0.5662, -1.1599, -1.8724],\n",
      "        [-1.3851,  0.6158,  0.1989],\n",
      "        [-0.2118,  2.1094, -1.8554]], grad_fn=<EmbeddingBackward0>)\n"
     ]
    }
   ],
   "source": [
    "import torch\n",
    "import torch.nn as nn\n",
    "def same_model(seed=42):\n",
    "    torch.manual_seed(seed)\n",
    "    if torch.cuda.is_available():\n",
    "        torch.cuda.manual_seed_all(seed)\n",
    "# 定义嵌入层参数\n",
    "num_embeddings = 5\n",
    "embedding_dim = 3\n",
    "# 定义嵌入层\n",
    "embedding = nn.Embedding(num_embeddings, embedding_dim)\n",
    "# 定义输入\n",
    "input = torch.tensor([0,2,4])\n",
    "# 查询嵌入向量\n",
    "output=embedding(input)\n",
    "# 打印权重矩阵\n",
    "print(embedding.weight)\n",
    "# 打印嵌入矩阵\n",
    "print(output)\n",
    "# 在这个例子中，input_indices = [0, 2, 4]，嵌入层从权重矩阵中选择第 0、2 和 4 行，作为对应的嵌入表示。\n",
    "\n",
    "# 可以看出，nn.Embedding 的核心功能就是根据索引从权重矩阵中查找对应的嵌入向量。"
   ]
  },
  {
   "cell_type": "code",
   "execution_count": null,
   "id": "ee19c940",
   "metadata": {},
   "outputs": [],
   "source": []
  },
  {
   "cell_type": "code",
   "execution_count": null,
   "id": "7a72c9cd",
   "metadata": {},
   "outputs": [],
   "source": []
  }
 ],
 "metadata": {
  "kernelspec": {
   "display_name": "deeplearn",
   "language": "python",
   "name": "python3"
  },
  "language_info": {
   "codemirror_mode": {
    "name": "ipython",
    "version": 3
   },
   "file_extension": ".py",
   "mimetype": "text/x-python",
   "name": "python",
   "nbconvert_exporter": "python",
   "pygments_lexer": "ipython3",
   "version": "3.10.18"
  }
 },
 "nbformat": 4,
 "nbformat_minor": 5
}
