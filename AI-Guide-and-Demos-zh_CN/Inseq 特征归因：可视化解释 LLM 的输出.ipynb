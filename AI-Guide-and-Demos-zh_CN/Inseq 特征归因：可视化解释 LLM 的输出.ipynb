{
 "cells": [
  {
   "cell_type": "markdown",
   "id": "90234245",
   "metadata": {},
   "source": [
    ">Feature Attribution（特征归因）：你可以将其当做对模型输出的解释，就像在图像分类中可视化模型关注的区域一样。本文将介绍 Inseq，这是一个用于解释和可视化序列生成模型输出的工具。我们将通过翻译任务（关注整个序列）和文本生成任务（关注前面的词）来演示如何使用 Inseq 来了解输入文本的哪些部分对模型生成下一个单词的影响最大。"
   ]
  },
  {
   "cell_type": "code",
   "execution_count": 1,
   "id": "37cff7c5",
   "metadata": {},
   "outputs": [],
   "source": [
    "\n",
    "import sys\n",
    "import IPython.display\n",
    "import IPython.core\n",
    "IPython.core.display = IPython.display\n",
    "sys.modules['IPython.core.display'] = IPython.display"
   ]
  },
  {
   "cell_type": "code",
   "execution_count": 4,
   "id": "9a1452b5",
   "metadata": {},
   "outputs": [
    {
     "name": "stderr",
     "output_type": "stream",
     "text": [
      "The following generation flags are not valid and may be ignored: ['output_attentions']. Set `TRANSFORMERS_VERBOSITY=info` for more details.\n",
      "The following generation flags are not valid and may be ignored: ['output_attentions']. Set `TRANSFORMERS_VERBOSITY=info` for more details.\n"
     ]
    },
    {
     "name": "stdout",
     "output_type": "stream",
     "text": [
      "使用 Helsinki-NLP/opus-mt-zh-en 模型\n",
      "\n",
      "======= 归因方法: saliency =======\n"
     ]
    },
    {
     "name": "stderr",
     "output_type": "stream",
     "text": [
      "Attributing with saliency...:  10%|█         | 1/10 [00:00<?, ?it/s]Passing a tuple of `past_key_values` is deprecated and will be removed in Transformers v4.58.0. You should pass an instance of `EncoderDecoderCache` instead, e.g. `past_key_values=EncoderDecoderCache.from_legacy_cache(past_key_values)`.\n",
      "Attributing with saliency...: 100%|██████████| 10/10 [00:00<00:00, 31.72it/s]\n"
     ]
    },
    {
     "data": {
      "text/html": [
       "<br/><b>0th instance:</b><br/>\n",
       "<html>\n",
       "<div id=\"redwveeepqtitwzbnsfe_viz_container\">\n",
       "    <div id=\"redwveeepqtitwzbnsfe_content\" style=\"padding:15px;border-style:solid;margin:5px;\">\n",
       "        <div id = \"redwveeepqtitwzbnsfe_saliency_plot_container\" class=\"redwveeepqtitwzbnsfe_viz_container\" style=\"display:block\">\n",
       "            \n",
       "<div id=\"zjgccronwlxgsaktqnfg_saliency_plot\" class=\"zjgccronwlxgsaktqnfg_viz_content\">\n",
       "    <div style=\"margin:5px;font-family:sans-serif;font-weight:bold;\">\n",
       "        <span style=\"font-size: 20px;\">Source Saliency Heatmap</span>\n",
       "        <br>\n",
       "        x: Generated tokens, y: Attributed tokens\n",
       "    </div>\n",
       "    \n",
       "<table border=\"1\" cellpadding=\"5\" cellspacing=\"5\"\n",
       "    style=\"overflow-x:scroll;display:block;\">\n",
       "    <tr><th></th>\n",
       "<th>I</th><th>like</th><th>machine</th><th>learning</th><th>and</th><th>artificial</th><th>intelligence</th><th>.</th><th>&lt;/s&gt;</th></tr><tr><th>我喜欢</th><th style=\"background:rgba(255.0, 13.0, 87.0, 0.4560903149138443)\">0.24</th><th style=\"background:rgba(255.0, 13.0, 87.0, 0.8423450188156072)\">0.44</th><th style=\"background:rgba(255.0, 13.0, 87.0, 0.15654585066349747)\">0.083</th><th style=\"background:rgba(255.0, 13.0, 87.0, 0.2117250940780353)\">0.113</th><th style=\"background:rgba(255.0, 13.0, 87.0, 0.23537334125569415)\">0.126</th><th style=\"background:rgba(255.0, 13.0, 87.0, 0.08560110913052081)\">0.048</th><th style=\"background:rgba(255.0, 13.0, 87.0, 0.06983561101208159)\">0.041</th><th style=\"background:rgba(255.0, 13.0, 87.0, 0.219607843137255)\">0.116</th><th style=\"background:rgba(255.0, 13.0, 87.0, 0.3851455733808676)\">0.203</th></tr><tr><th>机器</th><th style=\"background:rgba(255.0, 13.0, 87.0, 0.29843533372945136)\">0.159</th><th style=\"background:rgba(255.0, 13.0, 87.0, 0.219607843137255)\">0.116</th><th style=\"background:rgba(255.0, 13.0, 87.0, 0.8581105169340464)\">0.447</th><th style=\"background:rgba(255.0, 13.0, 87.0, 0.33784907902554967)\">0.178</th><th style=\"background:rgba(255.0, 13.0, 87.0, 0.24325609031491383)\">0.129</th><th style=\"background:rgba(255.0, 13.0, 87.0, 0.10136660724896006)\">0.056</th><th style=\"background:rgba(255.0, 13.0, 87.0, 0.10924935630817992)\">0.059</th><th style=\"background:rgba(255.0, 13.0, 87.0, 0.15654585066349747)\">0.086</th><th style=\"background:rgba(255.0, 13.0, 87.0, 0.2117250940780353)\">0.114</th></tr><tr><th>学习</th><th style=\"background:rgba(255.0, 13.0, 87.0, 0.14078035254505847)\">0.074</th><th style=\"background:rgba(255.0, 13.0, 87.0, 0.14078035254505847)\">0.076</th><th style=\"background:rgba(255.0, 13.0, 87.0, 0.29055258467023165)\">0.155</th><th style=\"background:rgba(255.0, 13.0, 87.0, 0.5428005545652606)\">0.283</th><th style=\"background:rgba(255.0, 13.0, 87.0, 0.2590215884333532)\">0.138</th><th style=\"background:rgba(255.0, 13.0, 87.0, 0.07771836007130124)\">0.042</th><th style=\"background:rgba(255.0, 13.0, 87.0, 0.08560110913052081)\">0.048</th><th style=\"background:rgba(255.0, 13.0, 87.0, 0.10136660724896006)\">0.054</th><th style=\"background:rgba(255.0, 13.0, 87.0, 0.12501485442661908)\">0.07</th></tr><tr><th>和</th><th style=\"background:rgba(255.0, 13.0, 87.0, 0.12501485442661908)\">0.066</th><th style=\"background:rgba(255.0, 13.0, 87.0, 0.10136660724896006)\">0.055</th><th style=\"background:rgba(255.0, 13.0, 87.0, 0.06983561101208159)\">0.041</th><th style=\"background:rgba(255.0, 13.0, 87.0, 0.1171321053673995)\">0.065</th><th style=\"background:rgba(255.0, 13.0, 87.0, 0.33784907902554967)\">0.179</th><th style=\"background:rgba(255.0, 13.0, 87.0, 0.06983561101208159)\">0.039</th><th style=\"background:rgba(255.0, 13.0, 87.0, 0.05407011289364243)\">0.033</th><th style=\"background:rgba(255.0, 13.0, 87.0, 0.08560110913052081)\">0.048</th><th style=\"background:rgba(255.0, 13.0, 87.0, 0.10924935630817992)\">0.059</th></tr><tr><th>人工</th><th style=\"background:rgba(255.0, 13.0, 87.0, 0.1959595959595959)\">0.105</th><th style=\"background:rgba(255.0, 13.0, 87.0, 0.13289760348583876)\">0.073</th><th style=\"background:rgba(255.0, 13.0, 87.0, 0.14866310160427795)\">0.081</th><th style=\"background:rgba(255.0, 13.0, 87.0, 0.22749059219647458)\">0.121</th><th style=\"background:rgba(255.0, 13.0, 87.0, 0.2511388393741335)\">0.134</th><th style=\"background:rgba(255.0, 13.0, 87.0, 0.7162210338680925)\">0.375</th><th style=\"background:rgba(255.0, 13.0, 87.0, 0.29055258467023165)\">0.156</th><th style=\"background:rgba(255.0, 13.0, 87.0, 0.29843533372945136)\">0.158</th><th style=\"background:rgba(255.0, 13.0, 87.0, 0.2590215884333532)\">0.136</th></tr><tr><th>智能</th><th style=\"background:rgba(255.0, 13.0, 87.0, 0.2747870865517925)\">0.146</th><th style=\"background:rgba(255.0, 13.0, 87.0, 0.1959595959595959)\">0.104</th><th style=\"background:rgba(255.0, 13.0, 87.0, 0.2117250940780353)\">0.114</th><th style=\"background:rgba(255.0, 13.0, 87.0, 0.2826698356110118)\">0.151</th><th style=\"background:rgba(255.0, 13.0, 87.0, 0.32208358090711037)\">0.171</th><th style=\"background:rgba(255.0, 13.0, 87.0, 0.6373935432758963)\">0.335</th><th style=\"background:rgba(255.0, 13.0, 87.0, 1.0)\">0.524</th><th style=\"background:rgba(255.0, 13.0, 87.0, 0.77928302634185)\">0.407</th><th style=\"background:rgba(255.0, 13.0, 87.0, 0.32208358090711037)\">0.17</th></tr><tr><th>。</th><th style=\"background:rgba(255.0, 13.0, 87.0, 0.26690433749257286)\">0.14</th><th style=\"background:rgba(255.0, 13.0, 87.0, 0.15654585066349747)\">0.082</th><th style=\"background:rgba(255.0, 13.0, 87.0, 0.06195286195286207)\">0.035</th><th style=\"background:rgba(255.0, 13.0, 87.0, 0.07771836007130124)\">0.044</th><th style=\"background:rgba(255.0, 13.0, 87.0, 0.14866310160427795)\">0.079</th><th style=\"background:rgba(255.0, 13.0, 87.0, 0.10136660724896006)\">0.054</th><th style=\"background:rgba(255.0, 13.0, 87.0, 0.1171321053673995)\">0.064</th><th style=\"background:rgba(255.0, 13.0, 87.0, 0.14078035254505847)\">0.075</th><th style=\"background:rgba(255.0, 13.0, 87.0, 0.32208358090711037)\">0.17</th></tr><tr><th>&lt;/s&gt;</th><th style=\"background:rgba(255.0, 13.0, 87.0, 0.13289760348583876)\">0.07</th><th style=\"background:rgba(255.0, 13.0, 87.0, 0.10136660724896006)\">0.053</th><th style=\"background:rgba(255.0, 13.0, 87.0, 0.08560110913052081)\">0.045</th><th style=\"background:rgba(255.0, 13.0, 87.0, 0.08560110913052081)\">0.046</th><th style=\"background:rgba(255.0, 13.0, 87.0, 0.07771836007130124)\">0.044</th><th style=\"background:rgba(255.0, 13.0, 87.0, 0.09348385818974037)\">0.051</th><th style=\"background:rgba(255.0, 13.0, 87.0, 0.14078035254505847)\">0.075</th><th style=\"background:rgba(255.0, 13.0, 87.0, 0.10136660724896006)\">0.056</th><th style=\"background:rgba(255.0, 13.0, 87.0, 0.14078035254505847)\">0.077</th></tr></table>\n",
       "</div>\n",
       "\n",
       "        </div>\n",
       "    </div>\n",
       "</div>\n",
       "</html>\n"
      ],
      "text/plain": [
       "<IPython.core.display.HTML object>"
      ]
     },
     "metadata": {},
     "output_type": "display_data"
    },
    {
     "name": "stderr",
     "output_type": "stream",
     "text": [
      "The following generation flags are not valid and may be ignored: ['output_attentions']. Set `TRANSFORMERS_VERBOSITY=info` for more details.\n",
      "The following generation flags are not valid and may be ignored: ['output_attentions']. Set `TRANSFORMERS_VERBOSITY=info` for more details.\n"
     ]
    },
    {
     "name": "stdout",
     "output_type": "stream",
     "text": [
      "翻译结果: <pad> I like machine learning and artificial intelligence . </s>\n",
      "\n",
      "======= 归因方法: attention =======\n"
     ]
    },
    {
     "name": "stderr",
     "output_type": "stream",
     "text": [
      "Attributing with attention...: 2it [00:00, 47.22it/s]               \n"
     ]
    },
    {
     "data": {
      "text/html": [
       "<br/><b>0th instance:</b><br/>\n",
       "<html>\n",
       "<div id=\"wouwdrcerufamypyaokv_viz_container\">\n",
       "    <div id=\"wouwdrcerufamypyaokv_content\" style=\"padding:15px;border-style:solid;margin:5px;\">\n",
       "        <div id = \"wouwdrcerufamypyaokv_saliency_plot_container\" class=\"wouwdrcerufamypyaokv_viz_container\" style=\"display:block\">\n",
       "            \n",
       "<div id=\"cbmajobdqbinwqainuri_saliency_plot\" class=\"cbmajobdqbinwqainuri_viz_content\">\n",
       "    <div style=\"margin:5px;font-family:sans-serif;font-weight:bold;\">\n",
       "        <span style=\"font-size: 20px;\">Source Saliency Heatmap</span>\n",
       "        <br>\n",
       "        x: Generated tokens, y: Attributed tokens\n",
       "    </div>\n",
       "    \n",
       "<table border=\"1\" cellpadding=\"5\" cellspacing=\"5\"\n",
       "    style=\"overflow-x:scroll;display:block;\">\n",
       "    <tr><th></th>\n",
       "<th>I</th><th>like</th><th>machine</th><th>learning</th><th>and</th><th>artificial</th><th>intelligence</th><th>.</th><th>&lt;/s&gt;</th></tr><tr><th>我喜欢</th><th style=\"background:rgba(255.0, 13.0, 87.0, 0.33784907902554967)\">0.21</th><th style=\"background:rgba(255.0, 13.0, 87.0, 0.865993265993266)\">0.537</th><th style=\"background:rgba(255.0, 13.0, 87.0, 0.3693800752624282)\">0.233</th><th style=\"background:rgba(255.0, 13.0, 87.0, 0.014656367597544035)\">0.012</th><th style=\"background:rgba(255.0, 13.0, 87.0, 0.03830461477520289)\">0.026</th><th style=\"background:rgba(255.0, 13.0, 87.0, 0.06983561101208159)\">0.045</th><th style=\"background:rgba(255.0, 13.0, 87.0, 0.014656367597544035)\">0.015</th><th style=\"background:rgba(255.0, 13.0, 87.0, 0.06195286195286207)\">0.042</th><th style=\"background:rgba(255.0, 13.0, 87.0, 0.06983561101208159)\">0.047</th></tr><tr><th>机器</th><th style=\"background:rgba(255.0, 13.0, 87.0, 0.13289760348583876)\">0.087</th><th style=\"background:rgba(255.0, 13.0, 87.0, 0.04618736383442265)\">0.033</th><th style=\"background:rgba(255.0, 13.0, 87.0, 0.3457318280847692)\">0.217</th><th style=\"background:rgba(255.0, 13.0, 87.0, 0.2747870865517925)\">0.174</th><th style=\"background:rgba(255.0, 13.0, 87.0, 0.06195286195286207)\">0.043</th><th style=\"background:rgba(255.0, 13.0, 87.0, 0.04618736383442265)\">0.03</th><th style=\"background:rgba(255.0, 13.0, 87.0, 0.030421865715983164)\">0.02</th><th style=\"background:rgba(255.0, 13.0, 87.0, 0.02253911665676371)\">0.017</th><th style=\"background:rgba(255.0, 13.0, 87.0, 0.03830461477520289)\">0.028</th></tr><tr><th>学习</th><th style=\"background:rgba(255.0, 13.0, 87.0, 0.05407011289364243)\">0.038</th><th style=\"background:rgba(255.0, 13.0, 87.0, 0.05407011289364243)\">0.038</th><th style=\"background:rgba(255.0, 13.0, 87.0, 0.1959595959595959)\">0.123</th><th style=\"background:rgba(255.0, 13.0, 87.0, 0.46397306397306415)\">0.288</th><th style=\"background:rgba(255.0, 13.0, 87.0, 0.22749059219647458)\">0.142</th><th style=\"background:rgba(255.0, 13.0, 87.0, 0.030421865715983164)\">0.022</th><th style=\"background:rgba(255.0, 13.0, 87.0, 0.030421865715983164)\">0.021</th><th style=\"background:rgba(255.0, 13.0, 87.0, 0.03830461477520289)\">0.029</th><th style=\"background:rgba(255.0, 13.0, 87.0, 0.03830461477520289)\">0.026</th></tr><tr><th>和</th><th style=\"background:rgba(255.0, 13.0, 87.0, 0.07771836007130124)\">0.049</th><th style=\"background:rgba(255.0, 13.0, 87.0, 0.06195286195286207)\">0.039</th><th style=\"background:rgba(255.0, 13.0, 87.0, 0.08560110913052081)\">0.056</th><th style=\"background:rgba(255.0, 13.0, 87.0, 0.05407011289364243)\">0.038</th><th style=\"background:rgba(255.0, 13.0, 87.0, 0.20384234501881549)\">0.128</th><th style=\"background:rgba(255.0, 13.0, 87.0, 0.14078035254505847)\">0.093</th><th style=\"background:rgba(255.0, 13.0, 87.0, 0.014656367597544035)\">0.013</th><th style=\"background:rgba(255.0, 13.0, 87.0, 0.04618736383442265)\">0.032</th><th style=\"background:rgba(255.0, 13.0, 87.0, 0.03830461477520289)\">0.028</th></tr><tr><th>人工</th><th style=\"background:rgba(255.0, 13.0, 87.0, 0.030421865715983164)\">0.021</th><th style=\"background:rgba(255.0, 13.0, 87.0, 0.030421865715983164)\">0.023</th><th style=\"background:rgba(255.0, 13.0, 87.0, 0.05407011289364243)\">0.037</th><th style=\"background:rgba(255.0, 13.0, 87.0, 0.06195286195286207)\">0.043</th><th style=\"background:rgba(255.0, 13.0, 87.0, 0.10136660724896006)\">0.066</th><th style=\"background:rgba(255.0, 13.0, 87.0, 0.4087938205585263)\">0.254</th><th style=\"background:rgba(255.0, 13.0, 87.0, 0.29055258467023165)\">0.184</th><th style=\"background:rgba(255.0, 13.0, 87.0, 0.05407011289364243)\">0.036</th><th style=\"background:rgba(255.0, 13.0, 87.0, 0.04618736383442265)\">0.032</th></tr><tr><th>智能</th><th style=\"background:rgba(255.0, 13.0, 87.0, 0.030421865715983164)\">0.021</th><th style=\"background:rgba(255.0, 13.0, 87.0, 0.030421865715983164)\">0.023</th><th style=\"background:rgba(255.0, 13.0, 87.0, 0.09348385818974037)\">0.063</th><th style=\"background:rgba(255.0, 13.0, 87.0, 0.08560110913052081)\">0.057</th><th style=\"background:rgba(255.0, 13.0, 87.0, 0.10136660724896006)\">0.067</th><th style=\"background:rgba(255.0, 13.0, 87.0, 0.18019409784115661)\">0.113</th><th style=\"background:rgba(255.0, 13.0, 87.0, 0.55068330362448)\">0.346</th><th style=\"background:rgba(255.0, 13.0, 87.0, 0.2117250940780353)\">0.136</th><th style=\"background:rgba(255.0, 13.0, 87.0, 0.03830461477520289)\">0.027</th></tr><tr><th>。</th><th style=\"background:rgba(255.0, 13.0, 87.0, 0.2117250940780353)\">0.135</th><th style=\"background:rgba(255.0, 13.0, 87.0, 0.10136660724896006)\">0.067</th><th style=\"background:rgba(255.0, 13.0, 87.0, 0.07771836007130124)\">0.05</th><th style=\"background:rgba(255.0, 13.0, 87.0, 0.03830461477520289)\">0.029</th><th style=\"background:rgba(255.0, 13.0, 87.0, 0.09348385818974037)\">0.06</th><th style=\"background:rgba(255.0, 13.0, 87.0, 0.07771836007130124)\">0.053</th><th style=\"background:rgba(255.0, 13.0, 87.0, 0.06195286195286207)\">0.043</th><th style=\"background:rgba(255.0, 13.0, 87.0, 0.24325609031491383)\">0.153</th><th style=\"background:rgba(255.0, 13.0, 87.0, 0.29843533372945136)\">0.186</th></tr><tr><th>&lt;/s&gt;</th><th style=\"background:rgba(255.0, 13.0, 87.0, 0.7004555357496535)\">0.438</th><th style=\"background:rgba(255.0, 13.0, 87.0, 0.3851455733808676)\">0.24</th><th style=\"background:rgba(255.0, 13.0, 87.0, 0.3536145771439889)\">0.221</th><th style=\"background:rgba(255.0, 13.0, 87.0, 0.5743315508021392)\">0.359</th><th style=\"background:rgba(255.0, 13.0, 87.0, 0.7477520301049713)\">0.468</th><th style=\"background:rgba(255.0, 13.0, 87.0, 0.6295107942166767)\">0.391</th><th style=\"background:rgba(255.0, 13.0, 87.0, 0.5743315508021392)\">0.358</th><th style=\"background:rgba(255.0, 13.0, 87.0, 0.889641513170925)\">0.555</th><th style=\"background:rgba(255.0, 13.0, 87.0, 1.0)\">0.625</th></tr></table>\n",
       "</div>\n",
       "\n",
       "        </div>\n",
       "    </div>\n",
       "</div>\n",
       "</html>\n"
      ],
      "text/plain": [
       "<IPython.core.display.HTML object>"
      ]
     },
     "metadata": {},
     "output_type": "display_data"
    },
    {
     "name": "stdout",
     "output_type": "stream",
     "text": [
      "翻译结果: <pad> I like machine learning and artificial intelligence . </s>\n"
     ]
    }
   ],
   "source": [
    "import inseq\n",
    "import torch\n",
    "\n",
    "print(\"使用 Helsinki-NLP/opus-mt-zh-en 模型\")\n",
    "\n",
    "# 定义要使用的归因方法列表\n",
    "attribution_methods = ['saliency', 'attention']\n",
    "\n",
    "for method in attribution_methods:\n",
    "    print(f\"\\n======= 归因方法: {method} =======\")\n",
    "\n",
    "    # 直接用 inseq 加载模型\n",
    "    inseq_model = inseq.load_model(\n",
    "        \"./opus-mt-zh-en\",  # 如果使用了本地下载，换成对应路径，比如：opus-mt-zh-en\n",
    "        attribution_method=method,\n",
    "        model_kwargs={\n",
    "            \"attn_implementation\": \"eager\" if method == \"attention\" else None\n",
    "        }\n",
    "    )\n",
    "\n",
    "    # 准备输入文本\n",
    "    input_text = \"我喜欢机器学习和人工智能。\"\n",
    "\n",
    "    # 进行归因分析\n",
    "    attribution_result = inseq_model.attribute(\n",
    "        input_texts=input_text,\n",
    "        show_progress=True\n",
    "    )\n",
    "\n",
    "    # 清理 tokenizer 中的特殊字符（可选）\n",
    "    for attr in attribution_result.sequence_attributions:\n",
    "        for item in attr.source:\n",
    "            item.token = item.token.replace('▁', '')\n",
    "        for item in attr.target:\n",
    "            item.token = item.token.replace('▁', '')\n",
    "\n",
    "    # 显示归因结果\n",
    "    attribution_result.show()\n",
    "\n",
    "    # 打印生成的翻译\n",
    "    if attribution_result.sequence_attributions:\n",
    "        # 获取生成的 tokens\n",
    "        generated_tokens = attribution_result.sequence_attributions[0].target\n",
    "        generated_text = \" \".join([token.token for token in generated_tokens])\n",
    "        print(f\"翻译结果: {generated_text}\")\n",
    "\n",
    "    # 清理内存\n",
    "    del inseq_model\n",
    "    torch.cuda.empty_cache()"
   ]
  },
  {
   "cell_type": "code",
   "execution_count": null,
   "id": "a88c932c",
   "metadata": {},
   "outputs": [],
   "source": []
  },
  {
   "cell_type": "code",
   "execution_count": null,
   "id": "5decddab",
   "metadata": {},
   "outputs": [],
   "source": []
  },
  {
   "cell_type": "code",
   "execution_count": null,
   "id": "edc0b531",
   "metadata": {},
   "outputs": [],
   "source": []
  },
  {
   "cell_type": "code",
   "execution_count": null,
   "id": "529508e3",
   "metadata": {},
   "outputs": [],
   "source": []
  },
  {
   "cell_type": "code",
   "execution_count": null,
   "id": "333e397a",
   "metadata": {},
   "outputs": [],
   "source": []
  },
  {
   "cell_type": "code",
   "execution_count": null,
   "id": "4dc16081",
   "metadata": {},
   "outputs": [],
   "source": []
  },
  {
   "cell_type": "code",
   "execution_count": null,
   "id": "dbb11950",
   "metadata": {},
   "outputs": [],
   "source": []
  },
  {
   "cell_type": "code",
   "execution_count": null,
   "id": "3fcaf509",
   "metadata": {},
   "outputs": [],
   "source": []
  },
  {
   "cell_type": "code",
   "execution_count": null,
   "id": "892de545",
   "metadata": {},
   "outputs": [],
   "source": []
  }
 ],
 "metadata": {
  "kernelspec": {
   "display_name": "deeplearn",
   "language": "python",
   "name": "python3"
  },
  "language_info": {
   "codemirror_mode": {
    "name": "ipython",
    "version": 3
   },
   "file_extension": ".py",
   "mimetype": "text/x-python",
   "name": "python",
   "nbconvert_exporter": "python",
   "pygments_lexer": "ipython3",
   "version": "3.10.18"
  }
 },
 "nbformat": 4,
 "nbformat_minor": 5
}
