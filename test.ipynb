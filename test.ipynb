{
 "cells": [
  {
   "cell_type": "code",
   "execution_count": null,
   "id": "5caac54b",
   "metadata": {},
   "outputs": [],
   "source": [
    "# import os\n",
    "# api_key=os.getenv('OPENAI_API_KEY')\n",
    "# base_url=os.getenv('OPENAI_BASE_URL') #https://aiproxy.bja.sealos.run/v1\n",
    "# model=os.getenv('OPENAI_MODEL')\n",
    "# print(api_key, base_url, model)"
   ]
  }
 ],
 "metadata": {
  "kernelspec": {
   "display_name": "deeplearn",
   "language": "python",
   "name": "python3"
  },
  "language_info": {
   "name": "python",
   "version": "3.10.18"
  }
 },
 "nbformat": 4,
 "nbformat_minor": 5
}
