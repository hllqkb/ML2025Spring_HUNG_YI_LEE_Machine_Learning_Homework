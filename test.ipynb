{
 "cells": [
  {
   "cell_type": "code",
   "execution_count": null,
   "id": "25824f31",
   "metadata": {},
   "outputs": [
    {
     "name": "stdout",
     "output_type": "stream",
     "text": [
      "sk-8HgqJuIRsv7br3MJ300b14232d084a6c82089d660122F5F2 https://aiproxy.bja.sealos.run/v1 qwen3-235b-a22b\n"
     ]
    }
   ],
   "source": [
    "import os\n",
    "api_key=os.getenv('OPENAI_API_KEY')\n",
    "base_url=os.getenv('OPENAI_BASE_URL') #https://aiproxy.bja.sealos.run/v1\n",
    "model=os.getenv('OPENAI_MODEL')\n",
    "print(api_key, base_url, model)"
   ]
  }
 ],
 "metadata": {
  "kernelspec": {
   "display_name": "deeplearn",
   "language": "python",
   "name": "python3"
  },
  "language_info": {
   "codemirror_mode": {
    "name": "ipython",
    "version": 3
   },
   "file_extension": ".py",
   "mimetype": "text/x-python",
   "name": "python",
   "nbconvert_exporter": "python",
   "pygments_lexer": "ipython3",
   "version": "3.10.18"
  }
 },
 "nbformat": 4,
 "nbformat_minor": 5
}
